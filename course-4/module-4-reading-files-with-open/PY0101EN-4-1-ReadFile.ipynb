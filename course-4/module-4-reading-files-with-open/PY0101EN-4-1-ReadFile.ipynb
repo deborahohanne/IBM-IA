{
 "cells": [
  {
   "cell_type": "markdown",
   "metadata": {},
   "source": [
    "<div class=\"alert alert-block alert-info\" style=\"margin-top: 20px\">\n",
    "    <a href=\"https://cocl.us/topNotebooksPython101Coursera\">\n",
    "         <img src=\"https://s3-api.us-geo.objectstorage.softlayer.net/cf-courses-data/CognitiveClass/PY0101EN/Ad/TopAd.png\" width=\"750\" align=\"center\">\n",
    "    </a>\n",
    "</div>"
   ]
  },
  {
   "cell_type": "markdown",
   "metadata": {},
   "source": [
    "<a href=\"https://cognitiveclass.ai/\">\n",
    "    <img src=\"https://s3-api.us-geo.objectstorage.softlayer.net/cf-courses-data/CognitiveClass/PY0101EN/Ad/CCLog.png\" width=\"200\" align=\"center\">\n",
    "</a>"
   ]
  },
  {
   "cell_type": "markdown",
   "metadata": {},
   "source": [
    "<h1>Reading Files Python</h1>"
   ]
  },
  {
   "cell_type": "markdown",
   "metadata": {},
   "source": [
    "<p><strong>Welcome!</strong> This notebook will teach you about reading the text file in the Python Programming Language. By the end of this lab, you'll know how to read text files.</p>"
   ]
  },
  {
   "cell_type": "markdown",
   "metadata": {},
   "source": [
    "<h2>Table of Contents</h2>\n",
    "<div class=\"alert alert-block alert-info\" style=\"margin-top: 20px\">\n",
    "    <ul>\n",
    "        <li><a href=\"download\">Download Data</a></li>\n",
    "        <li><a href=\"read\">Reading Text Files</a></li>\n",
    "        <li><a href=\"better\">A Better Way to Open a File</a></li>\n",
    "    </ul>\n",
    "    <p>\n",
    "        Estimated time needed: <strong>40 min</strong>\n",
    "    </p>\n",
    "</div>\n",
    "\n",
    "<hr>"
   ]
  },
  {
   "cell_type": "markdown",
   "metadata": {},
   "source": [
    "<h2 id=\"download\">Download Data</h2>"
   ]
  },
  {
   "cell_type": "code",
   "execution_count": 4,
   "metadata": {},
   "outputs": [
    {
     "name": "stdout",
     "output_type": "stream",
     "text": [
      "/resources/data/Example1.txt: Arquivo ou diretório inexistente\r\n"
     ]
    }
   ],
   "source": [
    "# Download Example file\n",
    "\n",
    "!wget -O /resources/data/Example1.txt https://s3-api.us-geo.objectstorage.softlayer.net/cf-courses-data/CognitiveClass/PY0101EN/labs/example1.txt"
   ]
  },
  {
   "cell_type": "markdown",
   "metadata": {},
   "source": [
    "<hr>"
   ]
  },
  {
   "cell_type": "markdown",
   "metadata": {},
   "source": [
    "<h2 id=\"read\">Reading Text Files</h2>"
   ]
  },
  {
   "cell_type": "markdown",
   "metadata": {},
   "source": [
    "One way to read or write a file in Python is to use the built-in <code>open</code> function. The <code>open</code> function provides a <b>File object</b> that contains the methods and attributes you need in order to read, save, and manipulate the file. In this notebook, we will only cover <b>.txt</b> files. The first parameter you need is the file path and the file name. An example is shown as follow:"
   ]
  },
  {
   "cell_type": "markdown",
   "metadata": {},
   "source": [
    "<img src=\"https://s3-api.us-geo.objectstorage.softlayer.net/cf-courses-data/CognitiveClass/PY0101EN/Chapter%204/Images/ReadOpen.png\" width=\"500\" />"
   ]
  },
  {
   "cell_type": "markdown",
   "metadata": {},
   "source": [
    " The mode argument is optional and the default value is <b>r</b>. In this notebook we only cover two modes: \n",
    "<ul>\n",
    "    <li><b>r</b> Read mode for reading files </li>\n",
    "    <li><b>w</b> Write mode for writing files</li>\n",
    "</ul>"
   ]
  },
  {
   "cell_type": "markdown",
   "metadata": {},
   "source": [
    "For the next example, we will use the text file <b>Example1.txt</b>. The file is shown as follow:"
   ]
  },
  {
   "cell_type": "markdown",
   "metadata": {},
   "source": [
    "<img src=\"https://s3-api.us-geo.objectstorage.softlayer.net/cf-courses-data/CognitiveClass/PY0101EN/Chapter%204/Images/ReadFile.png\" width=\"200\" />"
   ]
  },
  {
   "cell_type": "markdown",
   "metadata": {},
   "source": [
    " We read the file: "
   ]
  },
  {
   "cell_type": "code",
   "execution_count": 5,
   "metadata": {},
   "outputs": [],
   "source": [
    "# Read the Example1.txt\n",
    "\n",
    "example1 = \"/home/deborah/testes/semana_3\"\n",
    "file1 = open(example1, \"r\")"
   ]
  },
  {
   "cell_type": "markdown",
   "metadata": {},
   "source": [
    " We can view the attributes of the file."
   ]
  },
  {
   "cell_type": "markdown",
   "metadata": {},
   "source": [
    "The name of the file:"
   ]
  },
  {
   "cell_type": "code",
   "execution_count": 6,
   "metadata": {},
   "outputs": [
    {
     "data": {
      "text/plain": [
       "'/home/deborah/testes/semana_3'"
      ]
     },
     "execution_count": 6,
     "metadata": {},
     "output_type": "execute_result"
    }
   ],
   "source": [
    "# Print the path of file\n",
    "\n",
    "file1.name"
   ]
  },
  {
   "cell_type": "markdown",
   "metadata": {},
   "source": [
    " The mode the file object is in:"
   ]
  },
  {
   "cell_type": "code",
   "execution_count": 7,
   "metadata": {},
   "outputs": [
    {
     "data": {
      "text/plain": [
       "'r'"
      ]
     },
     "execution_count": 7,
     "metadata": {},
     "output_type": "execute_result"
    }
   ],
   "source": [
    "# Print the mode of file, either 'r' or 'w'\n",
    "\n",
    "file1.mode"
   ]
  },
  {
   "cell_type": "markdown",
   "metadata": {},
   "source": [
    "We can read the file and assign it to a variable :"
   ]
  },
  {
   "cell_type": "code",
   "execution_count": 8,
   "metadata": {},
   "outputs": [
    {
     "data": {
      "text/plain": [
       "\"CONDIÇÕES E RAMIFICAÇÕES:\\n\\n\\nAs operações de comparação comparam algum valor ou operando.\\n\\nOperador de igualdade: ==\\nOperador de desigualdade: !=\\nMaior que: >\\nMenor que: <\\nMaior ou igual a: >=\\nMenor ou igual a: <=\\n\\nA ramificação permite nos permite executar diferentes instruções para uma entrada diferente.\\n\\nse: if\\nou se: elif\\nsenão: else\\n\\nOperadores lógicos:\\n\\nor\\nand\\nnot\\n\\nLOOPS:\\n\\nFunção range() : gera uma sequência ordenada com uma lista.\\n\\nSe a entrada deve ser um inteiro positivo, a sequência possui o mesmo número de elementos que a entrada, mas começa em zero.\\n\\nEx.:\\n\\n- range(3) = [0, 1, 2]\\n- range(10, 15) = [10, 11, 12, 13, 14]\\n \\nOs Loops executam uma tarefa repetidamente.\\n\\nlista = ['A', 'B', 'C']\\n- for i in range(0,3)\\n\\nOs Loops while são semelhantes aos Loops for, mas ao invés de executar uma instrução um número definido de vezes, um Loop while só será executado se uma condição for atendida.\\n\\nFunções:\\n\\nFunções internas do Python, e também criação de novas funções.\\n\\nAs funções recebem uma entrada, e produz uma saída ou mudança. \\nA função é apenas um pedaço de código que pode ser reutilizado.\\nÉ necessário saber como a função funciona, no caso de usar funções de outras pessoas, ou as funções externas.\\n\\nEx.:\\n\\n- len() : recebe uma entrada da sequência de tipos, como uma sequência ou lista, ou  uma coleção de tipos, como um dicionário, e retorna o comprimento dessa lista.\\n\\n- sum() : recebe uma lista ou tupla, retorna a soma dos elementos dentro de uma tupla ou lista.\\n\\nPodemos utilizar métodos que são semelhantes às funções. \\n\\nOBJETOS E CLASSES:\\n\\nTodo objeto tem o seguinte: um tipo, representação interna, um conjunto de funções chamados métodos para interagir com os dados. \\nUm objeto é uma instância de um tipo específico.\\nOs atributos de dados da classe definem a classe.\\n\\n\""
      ]
     },
     "execution_count": 8,
     "metadata": {},
     "output_type": "execute_result"
    }
   ],
   "source": [
    "# Read the file\n",
    "\n",
    "FileContent = file1.read()\n",
    "FileContent"
   ]
  },
  {
   "cell_type": "markdown",
   "metadata": {},
   "source": [
    "The <b>/n</b> means that there is a new line. "
   ]
  },
  {
   "cell_type": "markdown",
   "metadata": {},
   "source": [
    "We can print the file: "
   ]
  },
  {
   "cell_type": "code",
   "execution_count": 9,
   "metadata": {},
   "outputs": [
    {
     "name": "stdout",
     "output_type": "stream",
     "text": [
      "CONDIÇÕES E RAMIFICAÇÕES:\n",
      "\n",
      "\n",
      "As operações de comparação comparam algum valor ou operando.\n",
      "\n",
      "Operador de igualdade: ==\n",
      "Operador de desigualdade: !=\n",
      "Maior que: >\n",
      "Menor que: <\n",
      "Maior ou igual a: >=\n",
      "Menor ou igual a: <=\n",
      "\n",
      "A ramificação permite nos permite executar diferentes instruções para uma entrada diferente.\n",
      "\n",
      "se: if\n",
      "ou se: elif\n",
      "senão: else\n",
      "\n",
      "Operadores lógicos:\n",
      "\n",
      "or\n",
      "and\n",
      "not\n",
      "\n",
      "LOOPS:\n",
      "\n",
      "Função range() : gera uma sequência ordenada com uma lista.\n",
      "\n",
      "Se a entrada deve ser um inteiro positivo, a sequência possui o mesmo número de elementos que a entrada, mas começa em zero.\n",
      "\n",
      "Ex.:\n",
      "\n",
      "- range(3) = [0, 1, 2]\n",
      "- range(10, 15) = [10, 11, 12, 13, 14]\n",
      " \n",
      "Os Loops executam uma tarefa repetidamente.\n",
      "\n",
      "lista = ['A', 'B', 'C']\n",
      "- for i in range(0,3)\n",
      "\n",
      "Os Loops while são semelhantes aos Loops for, mas ao invés de executar uma instrução um número definido de vezes, um Loop while só será executado se uma condição for atendida.\n",
      "\n",
      "Funções:\n",
      "\n",
      "Funções internas do Python, e também criação de novas funções.\n",
      "\n",
      "As funções recebem uma entrada, e produz uma saída ou mudança. \n",
      "A função é apenas um pedaço de código que pode ser reutilizado.\n",
      "É necessário saber como a função funciona, no caso de usar funções de outras pessoas, ou as funções externas.\n",
      "\n",
      "Ex.:\n",
      "\n",
      "- len() : recebe uma entrada da sequência de tipos, como uma sequência ou lista, ou  uma coleção de tipos, como um dicionário, e retorna o comprimento dessa lista.\n",
      "\n",
      "- sum() : recebe uma lista ou tupla, retorna a soma dos elementos dentro de uma tupla ou lista.\n",
      "\n",
      "Podemos utilizar métodos que são semelhantes às funções. \n",
      "\n",
      "OBJETOS E CLASSES:\n",
      "\n",
      "Todo objeto tem o seguinte: um tipo, representação interna, um conjunto de funções chamados métodos para interagir com os dados. \n",
      "Um objeto é uma instância de um tipo específico.\n",
      "Os atributos de dados da classe definem a classe.\n",
      "\n",
      "\n"
     ]
    }
   ],
   "source": [
    "# Print the file with '\\n' as a new line\n",
    "\n",
    "print(FileContent)"
   ]
  },
  {
   "cell_type": "markdown",
   "metadata": {},
   "source": [
    "The file is of type string:"
   ]
  },
  {
   "cell_type": "code",
   "execution_count": 10,
   "metadata": {},
   "outputs": [
    {
     "data": {
      "text/plain": [
       "str"
      ]
     },
     "execution_count": 10,
     "metadata": {},
     "output_type": "execute_result"
    }
   ],
   "source": [
    "# Type of file content\n",
    "\n",
    "type(FileContent)"
   ]
  },
  {
   "cell_type": "markdown",
   "metadata": {},
   "source": [
    " We must close the file object:"
   ]
  },
  {
   "cell_type": "code",
   "execution_count": 11,
   "metadata": {},
   "outputs": [],
   "source": [
    "# Close file after finish\n",
    "\n",
    "file1.close()"
   ]
  },
  {
   "cell_type": "markdown",
   "metadata": {},
   "source": [
    "<hr>"
   ]
  },
  {
   "cell_type": "markdown",
   "metadata": {},
   "source": [
    "<h2 id=\"better\">A Better Way to Open a File</h2>"
   ]
  },
  {
   "cell_type": "markdown",
   "metadata": {},
   "source": [
    "Using the <code>with</code> statement is better practice, it automatically closes the file even if the code encounters an exception. The code will run everything in the indent block then close the file object. "
   ]
  },
  {
   "cell_type": "code",
   "execution_count": 12,
   "metadata": {},
   "outputs": [
    {
     "name": "stdout",
     "output_type": "stream",
     "text": [
      "CONDIÇÕES E RAMIFICAÇÕES:\n",
      "\n",
      "\n",
      "As operações de comparação comparam algum valor ou operando.\n",
      "\n",
      "Operador de igualdade: ==\n",
      "Operador de desigualdade: !=\n",
      "Maior que: >\n",
      "Menor que: <\n",
      "Maior ou igual a: >=\n",
      "Menor ou igual a: <=\n",
      "\n",
      "A ramificação permite nos permite executar diferentes instruções para uma entrada diferente.\n",
      "\n",
      "se: if\n",
      "ou se: elif\n",
      "senão: else\n",
      "\n",
      "Operadores lógicos:\n",
      "\n",
      "or\n",
      "and\n",
      "not\n",
      "\n",
      "LOOPS:\n",
      "\n",
      "Função range() : gera uma sequência ordenada com uma lista.\n",
      "\n",
      "Se a entrada deve ser um inteiro positivo, a sequência possui o mesmo número de elementos que a entrada, mas começa em zero.\n",
      "\n",
      "Ex.:\n",
      "\n",
      "- range(3) = [0, 1, 2]\n",
      "- range(10, 15) = [10, 11, 12, 13, 14]\n",
      " \n",
      "Os Loops executam uma tarefa repetidamente.\n",
      "\n",
      "lista = ['A', 'B', 'C']\n",
      "- for i in range(0,3)\n",
      "\n",
      "Os Loops while são semelhantes aos Loops for, mas ao invés de executar uma instrução um número definido de vezes, um Loop while só será executado se uma condição for atendida.\n",
      "\n",
      "Funções:\n",
      "\n",
      "Funções internas do Python, e também criação de novas funções.\n",
      "\n",
      "As funções recebem uma entrada, e produz uma saída ou mudança. \n",
      "A função é apenas um pedaço de código que pode ser reutilizado.\n",
      "É necessário saber como a função funciona, no caso de usar funções de outras pessoas, ou as funções externas.\n",
      "\n",
      "Ex.:\n",
      "\n",
      "- len() : recebe uma entrada da sequência de tipos, como uma sequência ou lista, ou  uma coleção de tipos, como um dicionário, e retorna o comprimento dessa lista.\n",
      "\n",
      "- sum() : recebe uma lista ou tupla, retorna a soma dos elementos dentro de uma tupla ou lista.\n",
      "\n",
      "Podemos utilizar métodos que são semelhantes às funções. \n",
      "\n",
      "OBJETOS E CLASSES:\n",
      "\n",
      "Todo objeto tem o seguinte: um tipo, representação interna, um conjunto de funções chamados métodos para interagir com os dados. \n",
      "Um objeto é uma instância de um tipo específico.\n",
      "Os atributos de dados da classe definem a classe.\n",
      "\n",
      "\n"
     ]
    }
   ],
   "source": [
    "# Open file using with\n",
    "\n",
    "with open(example1, \"r\") as file1:\n",
    "    FileContent = file1.read()\n",
    "    print(FileContent)"
   ]
  },
  {
   "cell_type": "markdown",
   "metadata": {},
   "source": [
    "The file object is closed, you can verify it by running the following cell:  "
   ]
  },
  {
   "cell_type": "code",
   "execution_count": 13,
   "metadata": {},
   "outputs": [
    {
     "data": {
      "text/plain": [
       "True"
      ]
     },
     "execution_count": 13,
     "metadata": {},
     "output_type": "execute_result"
    }
   ],
   "source": [
    "# Verify if the file is closed\n",
    "\n",
    "file1.closed"
   ]
  },
  {
   "cell_type": "markdown",
   "metadata": {},
   "source": [
    " We can see the info in the file:"
   ]
  },
  {
   "cell_type": "code",
   "execution_count": 14,
   "metadata": {},
   "outputs": [
    {
     "name": "stdout",
     "output_type": "stream",
     "text": [
      "CONDIÇÕES E RAMIFICAÇÕES:\n",
      "\n",
      "\n",
      "As operações de comparação comparam algum valor ou operando.\n",
      "\n",
      "Operador de igualdade: ==\n",
      "Operador de desigualdade: !=\n",
      "Maior que: >\n",
      "Menor que: <\n",
      "Maior ou igual a: >=\n",
      "Menor ou igual a: <=\n",
      "\n",
      "A ramificação permite nos permite executar diferentes instruções para uma entrada diferente.\n",
      "\n",
      "se: if\n",
      "ou se: elif\n",
      "senão: else\n",
      "\n",
      "Operadores lógicos:\n",
      "\n",
      "or\n",
      "and\n",
      "not\n",
      "\n",
      "LOOPS:\n",
      "\n",
      "Função range() : gera uma sequência ordenada com uma lista.\n",
      "\n",
      "Se a entrada deve ser um inteiro positivo, a sequência possui o mesmo número de elementos que a entrada, mas começa em zero.\n",
      "\n",
      "Ex.:\n",
      "\n",
      "- range(3) = [0, 1, 2]\n",
      "- range(10, 15) = [10, 11, 12, 13, 14]\n",
      " \n",
      "Os Loops executam uma tarefa repetidamente.\n",
      "\n",
      "lista = ['A', 'B', 'C']\n",
      "- for i in range(0,3)\n",
      "\n",
      "Os Loops while são semelhantes aos Loops for, mas ao invés de executar uma instrução um número definido de vezes, um Loop while só será executado se uma condição for atendida.\n",
      "\n",
      "Funções:\n",
      "\n",
      "Funções internas do Python, e também criação de novas funções.\n",
      "\n",
      "As funções recebem uma entrada, e produz uma saída ou mudança. \n",
      "A função é apenas um pedaço de código que pode ser reutilizado.\n",
      "É necessário saber como a função funciona, no caso de usar funções de outras pessoas, ou as funções externas.\n",
      "\n",
      "Ex.:\n",
      "\n",
      "- len() : recebe uma entrada da sequência de tipos, como uma sequência ou lista, ou  uma coleção de tipos, como um dicionário, e retorna o comprimento dessa lista.\n",
      "\n",
      "- sum() : recebe uma lista ou tupla, retorna a soma dos elementos dentro de uma tupla ou lista.\n",
      "\n",
      "Podemos utilizar métodos que são semelhantes às funções. \n",
      "\n",
      "OBJETOS E CLASSES:\n",
      "\n",
      "Todo objeto tem o seguinte: um tipo, representação interna, um conjunto de funções chamados métodos para interagir com os dados. \n",
      "Um objeto é uma instância de um tipo específico.\n",
      "Os atributos de dados da classe definem a classe.\n",
      "\n",
      "\n"
     ]
    }
   ],
   "source": [
    "# See the content of file\n",
    "\n",
    "print(FileContent)"
   ]
  },
  {
   "cell_type": "markdown",
   "metadata": {},
   "source": [
    "The syntax is a little confusing as the file object is after the <code>as</code> statement. We also don’t explicitly close the file. Therefore we summarize the steps in a figure:"
   ]
  },
  {
   "cell_type": "markdown",
   "metadata": {},
   "source": [
    "<img src=\"https://s3-api.us-geo.objectstorage.softlayer.net/cf-courses-data/CognitiveClass/PY0101EN/Chapter%204/Images/ReadWith.png\" width=\"500\" />"
   ]
  },
  {
   "cell_type": "markdown",
   "metadata": {},
   "source": [
    "We don’t have to read the entire file, for example, we can read the first 4 characters by entering three as a parameter to the method **.read()**:\n"
   ]
  },
  {
   "cell_type": "code",
   "execution_count": 15,
   "metadata": {},
   "outputs": [
    {
     "name": "stdout",
     "output_type": "stream",
     "text": [
      "COND\n"
     ]
    }
   ],
   "source": [
    "# Read first four characters\n",
    "\n",
    "with open(example1, \"r\") as file1:\n",
    "    print(file1.read(4))"
   ]
  },
  {
   "cell_type": "markdown",
   "metadata": {},
   "source": [
    "Once the method <code>.read(4)</code> is called the first 4 characters are called. If we call the method again, the next 4 characters are called. The output for the following cell will demonstrate the process for different inputs to the method <code>read()</code>:"
   ]
  },
  {
   "cell_type": "code",
   "execution_count": 16,
   "metadata": {},
   "outputs": [
    {
     "name": "stdout",
     "output_type": "stream",
     "text": [
      "COND\n",
      "IÇÕE\n",
      "S E RAM\n",
      "IFICAÇÕES:\n",
      "\n",
      "\n",
      "As\n"
     ]
    }
   ],
   "source": [
    "# Read certain amount of characters\n",
    "\n",
    "with open(example1, \"r\") as file1:\n",
    "    print(file1.read(4))\n",
    "    print(file1.read(4))\n",
    "    print(file1.read(7))\n",
    "    print(file1.read(15))"
   ]
  },
  {
   "cell_type": "markdown",
   "metadata": {},
   "source": [
    "The process is illustrated in the below figure, and each color represents the part of the file read after the method <code>read()</code> is called:"
   ]
  },
  {
   "cell_type": "markdown",
   "metadata": {},
   "source": [
    "<img src=\"https://s3-api.us-geo.objectstorage.softlayer.net/cf-courses-data/CognitiveClass/PY0101EN/Chapter%204/Images/ReadChar.png\" width=\"500\" />"
   ]
  },
  {
   "cell_type": "markdown",
   "metadata": {},
   "source": [
    " Here is an example using the same file, but instead we read 16, 5, and then 9 characters at a time: "
   ]
  },
  {
   "cell_type": "code",
   "execution_count": 17,
   "metadata": {},
   "outputs": [
    {
     "name": "stdout",
     "output_type": "stream",
     "text": [
      "CONDIÇÕES E RAMI\n",
      "FICAÇ\n",
      "ÕES:\n",
      "\n",
      "\n",
      "As\n"
     ]
    }
   ],
   "source": [
    "# Read certain amount of characters\n",
    "\n",
    "with open(example1, \"r\") as file1:\n",
    "    print(file1.read(16))\n",
    "    print(file1.read(5))\n",
    "    print(file1.read(9))"
   ]
  },
  {
   "cell_type": "markdown",
   "metadata": {},
   "source": [
    "We can also read one line of the file at a time using the method <code>readline()</code>: "
   ]
  },
  {
   "cell_type": "code",
   "execution_count": 20,
   "metadata": {},
   "outputs": [
    {
     "name": "stdout",
     "output_type": "stream",
     "text": [
      "first line: CONDIÇÕES E RAMIFICAÇÕES:\n",
      "\n"
     ]
    }
   ],
   "source": [
    "# Read one line\n",
    "\n",
    "with open(example1, \"r\") as file1:\n",
    "    print(\"first line: \" + file1.readline())"
   ]
  },
  {
   "cell_type": "markdown",
   "metadata": {},
   "source": [
    " We can use a loop to iterate through each line: \n"
   ]
  },
  {
   "cell_type": "code",
   "execution_count": 21,
   "metadata": {},
   "outputs": [
    {
     "name": "stdout",
     "output_type": "stream",
     "text": [
      "Iteration 0 :  CONDIÇÕES E RAMIFICAÇÕES:\n",
      "\n",
      "Iteration 1 :  \n",
      "\n",
      "Iteration 2 :  \n",
      "\n",
      "Iteration 3 :  As operações de comparação comparam algum valor ou operando.\n",
      "\n",
      "Iteration 4 :  \n",
      "\n",
      "Iteration 5 :  Operador de igualdade: ==\n",
      "\n",
      "Iteration 6 :  Operador de desigualdade: !=\n",
      "\n",
      "Iteration 7 :  Maior que: >\n",
      "\n",
      "Iteration 8 :  Menor que: <\n",
      "\n",
      "Iteration 9 :  Maior ou igual a: >=\n",
      "\n",
      "Iteration 10 :  Menor ou igual a: <=\n",
      "\n",
      "Iteration 11 :  \n",
      "\n",
      "Iteration 12 :  A ramificação permite nos permite executar diferentes instruções para uma entrada diferente.\n",
      "\n",
      "Iteration 13 :  \n",
      "\n",
      "Iteration 14 :  se: if\n",
      "\n",
      "Iteration 15 :  ou se: elif\n",
      "\n",
      "Iteration 16 :  senão: else\n",
      "\n",
      "Iteration 17 :  \n",
      "\n",
      "Iteration 18 :  Operadores lógicos:\n",
      "\n",
      "Iteration 19 :  \n",
      "\n",
      "Iteration 20 :  or\n",
      "\n",
      "Iteration 21 :  and\n",
      "\n",
      "Iteration 22 :  not\n",
      "\n",
      "Iteration 23 :  \n",
      "\n",
      "Iteration 24 :  LOOPS:\n",
      "\n",
      "Iteration 25 :  \n",
      "\n",
      "Iteration 26 :  Função range() : gera uma sequência ordenada com uma lista.\n",
      "\n",
      "Iteration 27 :  \n",
      "\n",
      "Iteration 28 :  Se a entrada deve ser um inteiro positivo, a sequência possui o mesmo número de elementos que a entrada, mas começa em zero.\n",
      "\n",
      "Iteration 29 :  \n",
      "\n",
      "Iteration 30 :  Ex.:\n",
      "\n",
      "Iteration 31 :  \n",
      "\n",
      "Iteration 32 :  - range(3) = [0, 1, 2]\n",
      "\n",
      "Iteration 33 :  - range(10, 15) = [10, 11, 12, 13, 14]\n",
      "\n",
      "Iteration 34 :   \n",
      "\n",
      "Iteration 35 :  Os Loops executam uma tarefa repetidamente.\n",
      "\n",
      "Iteration 36 :  \n",
      "\n",
      "Iteration 37 :  lista = ['A', 'B', 'C']\n",
      "\n",
      "Iteration 38 :  - for i in range(0,3)\n",
      "\n",
      "Iteration 39 :  \n",
      "\n",
      "Iteration 40 :  Os Loops while são semelhantes aos Loops for, mas ao invés de executar uma instrução um número definido de vezes, um Loop while só será executado se uma condição for atendida.\n",
      "\n",
      "Iteration 41 :  \n",
      "\n",
      "Iteration 42 :  Funções:\n",
      "\n",
      "Iteration 43 :  \n",
      "\n",
      "Iteration 44 :  Funções internas do Python, e também criação de novas funções.\n",
      "\n",
      "Iteration 45 :  \n",
      "\n",
      "Iteration 46 :  As funções recebem uma entrada, e produz uma saída ou mudança. \n",
      "\n",
      "Iteration 47 :  A função é apenas um pedaço de código que pode ser reutilizado.\n",
      "\n",
      "Iteration 48 :  É necessário saber como a função funciona, no caso de usar funções de outras pessoas, ou as funções externas.\n",
      "\n",
      "Iteration 49 :  \n",
      "\n",
      "Iteration 50 :  Ex.:\n",
      "\n",
      "Iteration 51 :  \n",
      "\n",
      "Iteration 52 :  - len() : recebe uma entrada da sequência de tipos, como uma sequência ou lista, ou  uma coleção de tipos, como um dicionário, e retorna o comprimento dessa lista.\n",
      "\n",
      "Iteration 53 :  \n",
      "\n",
      "Iteration 54 :  - sum() : recebe uma lista ou tupla, retorna a soma dos elementos dentro de uma tupla ou lista.\n",
      "\n",
      "Iteration 55 :  \n",
      "\n",
      "Iteration 56 :  Podemos utilizar métodos que são semelhantes às funções. \n",
      "\n",
      "Iteration 57 :  \n",
      "\n",
      "Iteration 58 :  OBJETOS E CLASSES:\n",
      "\n",
      "Iteration 59 :  \n",
      "\n",
      "Iteration 60 :  Todo objeto tem o seguinte: um tipo, representação interna, um conjunto de funções chamados métodos para interagir com os dados. \n",
      "\n",
      "Iteration 61 :  Um objeto é uma instância de um tipo específico.\n",
      "\n",
      "Iteration 62 :  Os atributos de dados da classe definem a classe.\n",
      "\n",
      "Iteration 63 :  \n",
      "\n"
     ]
    }
   ],
   "source": [
    "# Iterate through the lines\n",
    "\n",
    "with open(example1,\"r\") as file1:\n",
    "        i = 0;\n",
    "        for line in file1:\n",
    "            print(\"Iteration\", str(i), \": \", line)\n",
    "            i = i + 1;"
   ]
  },
  {
   "cell_type": "markdown",
   "metadata": {},
   "source": [
    "We can use the method <code>readlines()</code> to save the text file to a list: "
   ]
  },
  {
   "cell_type": "code",
   "execution_count": 22,
   "metadata": {},
   "outputs": [],
   "source": [
    "# Read all lines and save as a list\n",
    "\n",
    "with open(example1, \"r\") as file1:\n",
    "    FileasList = file1.readlines()"
   ]
  },
  {
   "cell_type": "markdown",
   "metadata": {},
   "source": [
    " Each element of the list corresponds to a line of text:"
   ]
  },
  {
   "cell_type": "code",
   "execution_count": 23,
   "metadata": {},
   "outputs": [
    {
     "data": {
      "text/plain": [
       "'CONDIÇÕES E RAMIFICAÇÕES:\\n'"
      ]
     },
     "execution_count": 23,
     "metadata": {},
     "output_type": "execute_result"
    }
   ],
   "source": [
    "# Print the first line\n",
    "\n",
    "FileasList[0]"
   ]
  },
  {
   "cell_type": "code",
   "execution_count": 24,
   "metadata": {},
   "outputs": [
    {
     "data": {
      "text/plain": [
       "'\\n'"
      ]
     },
     "execution_count": 24,
     "metadata": {},
     "output_type": "execute_result"
    }
   ],
   "source": [
    "# Print the second line\n",
    "\n",
    "FileasList[1]"
   ]
  },
  {
   "cell_type": "code",
   "execution_count": 25,
   "metadata": {},
   "outputs": [
    {
     "data": {
      "text/plain": [
       "'\\n'"
      ]
     },
     "execution_count": 25,
     "metadata": {},
     "output_type": "execute_result"
    }
   ],
   "source": [
    "# Print the third line\n",
    "\n",
    "FileasList[2]"
   ]
  },
  {
   "cell_type": "markdown",
   "metadata": {},
   "source": [
    "<hr>\n",
    "<h2>The last exercise!</h2>\n",
    "<p>Congratulations, you have completed your first lesson and hands-on lab in Python. However, there is one more thing you need to do. The Data Science community encourages sharing work. The best way to share and showcase your work is to share it on GitHub. By sharing your notebook on GitHub you are not only building your reputation with fellow data scientists, but you can also show it off when applying for a job. Even though this was your first piece of work, it is never too early to start building good habits. So, please read and follow <a href=\"https://cognitiveclass.ai/blog/data-scientists-stand-out-by-sharing-your-notebooks/\" target=\"_blank\">this article</a> to learn how to share your work.\n",
    "<hr>"
   ]
  },
  {
   "cell_type": "markdown",
   "metadata": {},
   "source": [
    "<div class=\"alert alert-block alert-info\" style=\"margin-top: 20px\">\n",
    "<h2>Get IBM Watson Studio free of charge!</h2>\n",
    "    <p><a href=\"https://cocl.us/bottemNotebooksPython101Coursera\"><img src=\"https://s3-api.us-geo.objectstorage.softlayer.net/cf-courses-data/CognitiveClass/PY0101EN/Ad/BottomAd.png\" width=\"750\" align=\"center\"></a></p>\n",
    "</div>"
   ]
  },
  {
   "cell_type": "markdown",
   "metadata": {},
   "source": [
    "<h3>About the Authors:</h3>  \n",
    "<p><a href=\"https://www.linkedin.com/in/joseph-s-50398b136/\" target=\"_blank\">Joseph Santarcangelo</a> is a Data Scientist at IBM, and holds a PhD in Electrical Engineering. His research focused on using Machine Learning, Signal Processing, and Computer Vision to determine how videos impact human cognition. Joseph has been working for IBM since he completed his PhD.</p>"
   ]
  },
  {
   "cell_type": "markdown",
   "metadata": {},
   "source": [
    "Other contributors: <a href=\"www.linkedin.com/in/jiahui-mavis-zhou-a4537814a\">Mavis Zhou</a>"
   ]
  },
  {
   "cell_type": "markdown",
   "metadata": {},
   "source": [
    "<hr>"
   ]
  },
  {
   "cell_type": "markdown",
   "metadata": {},
   "source": [
    "<p>Copyright &copy; 2018 IBM Developer Skills Network. This notebook and its source code are released under the terms of the <a href=\"https://cognitiveclass.ai/mit-license/\">MIT License</a>.</p>"
   ]
  }
 ],
 "metadata": {
  "kernelspec": {
   "display_name": "Python 3",
   "language": "python",
   "name": "python3"
  },
  "language_info": {
   "codemirror_mode": {
    "name": "ipython",
    "version": 3
   },
   "file_extension": ".py",
   "mimetype": "text/x-python",
   "name": "python",
   "nbconvert_exporter": "python",
   "pygments_lexer": "ipython3",
   "version": "3.7.4"
  }
 },
 "nbformat": 4,
 "nbformat_minor": 2
}
